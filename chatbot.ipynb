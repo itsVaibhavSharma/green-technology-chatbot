{
  "cells": [
    {
      "cell_type": "markdown",
      "metadata": {
        "id": "5W4bevyS8b3S"
      },
      "source": [
        "# Advanced NLP Chatbot Implementation\n",
        "\n",
        "This notebook creates an enhanced chatbot that uses NLP techniques to understand and respond to user inputs. It leverages TF-IDF vectorization and a machine learning model to identify user intents and provide appropriate responses."
      ]
    },
    {
      "cell_type": "markdown",
      "metadata": {
        "id": "K2YJxxLd8b3W"
      },
      "source": [
        "## 1. Import Required Libraries"
      ]
    },
    {
      "cell_type": "code",
      "execution_count": 28,
      "metadata": {
        "id": "g4K6cWw18b3X"
      },
      "outputs": [],
      "source": [
        "import json\n",
        "import nltk\n",
        "import numpy as np\n",
        "import pandas as pd\n",
        "import random\n",
        "import re\n",
        "import ssl\n",
        "import string\n",
        "import warnings\n",
        "from nltk.stem import WordNetLemmatizer\n",
        "from nltk.corpus import stopwords\n",
        "from sklearn.feature_extraction.text import TfidfVectorizer\n",
        "from sklearn.ensemble import RandomForestClassifier\n",
        "from sklearn.metrics import classification_report, accuracy_score\n",
        "from sklearn.model_selection import train_test_split\n",
        "import matplotlib.pyplot as plt\n",
        "import seaborn as sns\n",
        "from IPython.display import display, HTML\n",
        "\n",
        "# Ignore warnings for cleaner output\n",
        "warnings.filterwarnings('ignore')"
      ]
    },
    {
      "cell_type": "markdown",
      "metadata": {
        "id": "JgRL5tGJ8b3Y"
      },
      "source": [
        "## 2. Download NLTK Resources"
      ]
    },
    {
      "cell_type": "code",
      "execution_count": 29,
      "metadata": {
        "colab": {
          "base_uri": "https://localhost:8080/"
        },
        "id": "4huw95JY8b3Z",
        "outputId": "25b6a326-8797-4998-9a67-5691ce2678a8"
      },
      "outputs": [
        {
          "output_type": "stream",
          "name": "stderr",
          "text": [
            "[nltk_data] Downloading package punkt to /root/nltk_data...\n",
            "[nltk_data]   Package punkt is already up-to-date!\n",
            "[nltk_data] Downloading package wordnet to /root/nltk_data...\n",
            "[nltk_data]   Package wordnet is already up-to-date!\n",
            "[nltk_data] Downloading package stopwords to /root/nltk_data...\n",
            "[nltk_data]   Package stopwords is already up-to-date!\n",
            "[nltk_data] Downloading package omw-1.4 to /root/nltk_data...\n",
            "[nltk_data]   Package omw-1.4 is already up-to-date!\n"
          ]
        },
        {
          "output_type": "execute_result",
          "data": {
            "text/plain": [
              "True"
            ]
          },
          "metadata": {},
          "execution_count": 29
        }
      ],
      "source": [
        "# Handle SSL certificate issues\n",
        "try:\n",
        "    _create_unverified_https_context = ssl._create_unverified_context\n",
        "except AttributeError:\n",
        "    pass\n",
        "else:\n",
        "    ssl._create_default_https_context = _create_unverified_https_context\n",
        "\n",
        "# Download required NLTK datasets\n",
        "nltk.download('punkt')\n",
        "nltk.download('wordnet')\n",
        "nltk.download('stopwords')\n",
        "nltk.download('omw-1.4')"
      ]
    },
    {
      "cell_type": "markdown",
      "metadata": {
        "id": "3CR6ngGt8b3Z"
      },
      "source": [
        "## 3. Load and Examine Intents Data"
      ]
    },
    {
      "cell_type": "code",
      "execution_count": 30,
      "metadata": {
        "colab": {
          "base_uri": "https://localhost:8080/"
        },
        "id": "Jma1PpnU8b3a",
        "outputId": "faa78344-4b18-4b9a-9591-07a2a9f15f34"
      },
      "outputs": [
        {
          "output_type": "stream",
          "name": "stdout",
          "text": [
            "Number of intents: 278\n",
            "Total number of patterns: 835\n",
            "Total number of responses: 567\n"
          ]
        }
      ],
      "source": [
        "# Load intents from file\n",
        "# You can use this cell to load the intents.json file\n",
        "# Or paste the intents directly as shown below\n",
        "\n",
        "# Option 1: Load from file\n",
        "with open('/content/intents.json', 'r') as f:\n",
        "    intents = json.load(f)\n",
        "\n",
        "# Option 2: Define intents directly in code (abbreviated for brevity)\n",
        "# This is just a small sample - use the full intents.json in practice\n",
        "# intents = [\n",
        "#     {\n",
        "#         'tag': 'greeting',\n",
        "#         'patterns': ['Hi', 'Hello', 'Hey', 'Whats up', 'How are you'],\n",
        "#         'responses': ['Hi there', 'Hello', 'Hey', 'Nothing much', 'I\\'m fine, thank you']\n",
        "#     },\n",
        "#     {\n",
        "#         'tag': 'goodbye',\n",
        "#         'patterns': ['Bye', 'See you later', 'Goodbye', 'Take care'],\n",
        "#         'responses': ['Goodbye', 'See you later', 'Take care']\n",
        "#     },\n",
        "#     {\n",
        "#         \"tag\": \"thanks\",\n",
        "#         \"patterns\": [\"Thank you\", \"Thanks\", \"Thanks a lot\", \"I appreciate it\"],\n",
        "#         \"responses\": [\"You're welcome\", \"No problem\", \"Glad I could help\"]\n",
        "#     },\n",
        "#     {\n",
        "#         \"tag\": \"about\",\n",
        "#         \"patterns\": [\"What can you do\", \"Who are you\", \"What are you\", \"What is your purpose\"],\n",
        "#         \"responses\": [\"I am a chatbot\", \"My purpose is to assist you\", \"I can answer questions and provide assistance\"]\n",
        "#     }\n",
        "#     # ... add more intents or load from json file\n",
        "# ]\n",
        "\n",
        "# Display some statistics about the intents\n",
        "print(f\"Number of intents: {len(intents)}\")\n",
        "total_patterns = sum(len(intent['patterns']) for intent in intents)\n",
        "print(f\"Total number of patterns: {total_patterns}\")\n",
        "total_responses = sum(len(intent['responses']) for intent in intents)\n",
        "print(f\"Total number of responses: {total_responses}\")"
      ]
    },
    {
      "cell_type": "markdown",
      "metadata": {
        "id": "l2T5Sd0Q8b3b"
      },
      "source": [
        "## 4. Preprocess the Text Data"
      ]
    },
    {
      "cell_type": "code",
      "execution_count": 31,
      "metadata": {
        "colab": {
          "base_uri": "https://localhost:8080/",
          "height": 260
        },
        "id": "NW5Pf-Zz8b3c",
        "outputId": "89ca07c4-fac9-4f28-b17e-b1e9f0433dd2"
      },
      "outputs": [
        {
          "output_type": "stream",
          "name": "stderr",
          "text": [
            "[nltk_data] Downloading package punkt_tab to /root/nltk_data...\n",
            "[nltk_data]   Package punkt_tab is already up-to-date!\n"
          ]
        },
        {
          "output_type": "display_data",
          "data": {
            "text/plain": [
              "  pattern       tag\n",
              "0      hi  greeting\n",
              "1   hello  greeting\n",
              "2     hey  greeting\n",
              "3          greeting\n",
              "4   whats  greeting"
            ],
            "text/html": [
              "\n",
              "  <div id=\"df-921beace-52a6-44ea-944c-345ad2c0576f\" class=\"colab-df-container\">\n",
              "    <div>\n",
              "<style scoped>\n",
              "    .dataframe tbody tr th:only-of-type {\n",
              "        vertical-align: middle;\n",
              "    }\n",
              "\n",
              "    .dataframe tbody tr th {\n",
              "        vertical-align: top;\n",
              "    }\n",
              "\n",
              "    .dataframe thead th {\n",
              "        text-align: right;\n",
              "    }\n",
              "</style>\n",
              "<table border=\"1\" class=\"dataframe\">\n",
              "  <thead>\n",
              "    <tr style=\"text-align: right;\">\n",
              "      <th></th>\n",
              "      <th>pattern</th>\n",
              "      <th>tag</th>\n",
              "    </tr>\n",
              "  </thead>\n",
              "  <tbody>\n",
              "    <tr>\n",
              "      <th>0</th>\n",
              "      <td>hi</td>\n",
              "      <td>greeting</td>\n",
              "    </tr>\n",
              "    <tr>\n",
              "      <th>1</th>\n",
              "      <td>hello</td>\n",
              "      <td>greeting</td>\n",
              "    </tr>\n",
              "    <tr>\n",
              "      <th>2</th>\n",
              "      <td>hey</td>\n",
              "      <td>greeting</td>\n",
              "    </tr>\n",
              "    <tr>\n",
              "      <th>3</th>\n",
              "      <td></td>\n",
              "      <td>greeting</td>\n",
              "    </tr>\n",
              "    <tr>\n",
              "      <th>4</th>\n",
              "      <td>whats</td>\n",
              "      <td>greeting</td>\n",
              "    </tr>\n",
              "  </tbody>\n",
              "</table>\n",
              "</div>\n",
              "    <div class=\"colab-df-buttons\">\n",
              "\n",
              "  <div class=\"colab-df-container\">\n",
              "    <button class=\"colab-df-convert\" onclick=\"convertToInteractive('df-921beace-52a6-44ea-944c-345ad2c0576f')\"\n",
              "            title=\"Convert this dataframe to an interactive table.\"\n",
              "            style=\"display:none;\">\n",
              "\n",
              "  <svg xmlns=\"http://www.w3.org/2000/svg\" height=\"24px\" viewBox=\"0 -960 960 960\">\n",
              "    <path d=\"M120-120v-720h720v720H120Zm60-500h600v-160H180v160Zm220 220h160v-160H400v160Zm0 220h160v-160H400v160ZM180-400h160v-160H180v160Zm440 0h160v-160H620v160ZM180-180h160v-160H180v160Zm440 0h160v-160H620v160Z\"/>\n",
              "  </svg>\n",
              "    </button>\n",
              "\n",
              "  <style>\n",
              "    .colab-df-container {\n",
              "      display:flex;\n",
              "      gap: 12px;\n",
              "    }\n",
              "\n",
              "    .colab-df-convert {\n",
              "      background-color: #E8F0FE;\n",
              "      border: none;\n",
              "      border-radius: 50%;\n",
              "      cursor: pointer;\n",
              "      display: none;\n",
              "      fill: #1967D2;\n",
              "      height: 32px;\n",
              "      padding: 0 0 0 0;\n",
              "      width: 32px;\n",
              "    }\n",
              "\n",
              "    .colab-df-convert:hover {\n",
              "      background-color: #E2EBFA;\n",
              "      box-shadow: 0px 1px 2px rgba(60, 64, 67, 0.3), 0px 1px 3px 1px rgba(60, 64, 67, 0.15);\n",
              "      fill: #174EA6;\n",
              "    }\n",
              "\n",
              "    .colab-df-buttons div {\n",
              "      margin-bottom: 4px;\n",
              "    }\n",
              "\n",
              "    [theme=dark] .colab-df-convert {\n",
              "      background-color: #3B4455;\n",
              "      fill: #D2E3FC;\n",
              "    }\n",
              "\n",
              "    [theme=dark] .colab-df-convert:hover {\n",
              "      background-color: #434B5C;\n",
              "      box-shadow: 0px 1px 3px 1px rgba(0, 0, 0, 0.15);\n",
              "      filter: drop-shadow(0px 1px 2px rgba(0, 0, 0, 0.3));\n",
              "      fill: #FFFFFF;\n",
              "    }\n",
              "  </style>\n",
              "\n",
              "    <script>\n",
              "      const buttonEl =\n",
              "        document.querySelector('#df-921beace-52a6-44ea-944c-345ad2c0576f button.colab-df-convert');\n",
              "      buttonEl.style.display =\n",
              "        google.colab.kernel.accessAllowed ? 'block' : 'none';\n",
              "\n",
              "      async function convertToInteractive(key) {\n",
              "        const element = document.querySelector('#df-921beace-52a6-44ea-944c-345ad2c0576f');\n",
              "        const dataTable =\n",
              "          await google.colab.kernel.invokeFunction('convertToInteractive',\n",
              "                                                    [key], {});\n",
              "        if (!dataTable) return;\n",
              "\n",
              "        const docLinkHtml = 'Like what you see? Visit the ' +\n",
              "          '<a target=\"_blank\" href=https://colab.research.google.com/notebooks/data_table.ipynb>data table notebook</a>'\n",
              "          + ' to learn more about interactive tables.';\n",
              "        element.innerHTML = '';\n",
              "        dataTable['output_type'] = 'display_data';\n",
              "        await google.colab.output.renderOutput(dataTable, element);\n",
              "        const docLink = document.createElement('div');\n",
              "        docLink.innerHTML = docLinkHtml;\n",
              "        element.appendChild(docLink);\n",
              "      }\n",
              "    </script>\n",
              "  </div>\n",
              "\n",
              "\n",
              "<div id=\"df-13200d21-8895-4a68-bb6b-797f405f2be6\">\n",
              "  <button class=\"colab-df-quickchart\" onclick=\"quickchart('df-13200d21-8895-4a68-bb6b-797f405f2be6')\"\n",
              "            title=\"Suggest charts\"\n",
              "            style=\"display:none;\">\n",
              "\n",
              "<svg xmlns=\"http://www.w3.org/2000/svg\" height=\"24px\"viewBox=\"0 0 24 24\"\n",
              "     width=\"24px\">\n",
              "    <g>\n",
              "        <path d=\"M19 3H5c-1.1 0-2 .9-2 2v14c0 1.1.9 2 2 2h14c1.1 0 2-.9 2-2V5c0-1.1-.9-2-2-2zM9 17H7v-7h2v7zm4 0h-2V7h2v10zm4 0h-2v-4h2v4z\"/>\n",
              "    </g>\n",
              "</svg>\n",
              "  </button>\n",
              "\n",
              "<style>\n",
              "  .colab-df-quickchart {\n",
              "      --bg-color: #E8F0FE;\n",
              "      --fill-color: #1967D2;\n",
              "      --hover-bg-color: #E2EBFA;\n",
              "      --hover-fill-color: #174EA6;\n",
              "      --disabled-fill-color: #AAA;\n",
              "      --disabled-bg-color: #DDD;\n",
              "  }\n",
              "\n",
              "  [theme=dark] .colab-df-quickchart {\n",
              "      --bg-color: #3B4455;\n",
              "      --fill-color: #D2E3FC;\n",
              "      --hover-bg-color: #434B5C;\n",
              "      --hover-fill-color: #FFFFFF;\n",
              "      --disabled-bg-color: #3B4455;\n",
              "      --disabled-fill-color: #666;\n",
              "  }\n",
              "\n",
              "  .colab-df-quickchart {\n",
              "    background-color: var(--bg-color);\n",
              "    border: none;\n",
              "    border-radius: 50%;\n",
              "    cursor: pointer;\n",
              "    display: none;\n",
              "    fill: var(--fill-color);\n",
              "    height: 32px;\n",
              "    padding: 0;\n",
              "    width: 32px;\n",
              "  }\n",
              "\n",
              "  .colab-df-quickchart:hover {\n",
              "    background-color: var(--hover-bg-color);\n",
              "    box-shadow: 0 1px 2px rgba(60, 64, 67, 0.3), 0 1px 3px 1px rgba(60, 64, 67, 0.15);\n",
              "    fill: var(--button-hover-fill-color);\n",
              "  }\n",
              "\n",
              "  .colab-df-quickchart-complete:disabled,\n",
              "  .colab-df-quickchart-complete:disabled:hover {\n",
              "    background-color: var(--disabled-bg-color);\n",
              "    fill: var(--disabled-fill-color);\n",
              "    box-shadow: none;\n",
              "  }\n",
              "\n",
              "  .colab-df-spinner {\n",
              "    border: 2px solid var(--fill-color);\n",
              "    border-color: transparent;\n",
              "    border-bottom-color: var(--fill-color);\n",
              "    animation:\n",
              "      spin 1s steps(1) infinite;\n",
              "  }\n",
              "\n",
              "  @keyframes spin {\n",
              "    0% {\n",
              "      border-color: transparent;\n",
              "      border-bottom-color: var(--fill-color);\n",
              "      border-left-color: var(--fill-color);\n",
              "    }\n",
              "    20% {\n",
              "      border-color: transparent;\n",
              "      border-left-color: var(--fill-color);\n",
              "      border-top-color: var(--fill-color);\n",
              "    }\n",
              "    30% {\n",
              "      border-color: transparent;\n",
              "      border-left-color: var(--fill-color);\n",
              "      border-top-color: var(--fill-color);\n",
              "      border-right-color: var(--fill-color);\n",
              "    }\n",
              "    40% {\n",
              "      border-color: transparent;\n",
              "      border-right-color: var(--fill-color);\n",
              "      border-top-color: var(--fill-color);\n",
              "    }\n",
              "    60% {\n",
              "      border-color: transparent;\n",
              "      border-right-color: var(--fill-color);\n",
              "    }\n",
              "    80% {\n",
              "      border-color: transparent;\n",
              "      border-right-color: var(--fill-color);\n",
              "      border-bottom-color: var(--fill-color);\n",
              "    }\n",
              "    90% {\n",
              "      border-color: transparent;\n",
              "      border-bottom-color: var(--fill-color);\n",
              "    }\n",
              "  }\n",
              "</style>\n",
              "\n",
              "  <script>\n",
              "    async function quickchart(key) {\n",
              "      const quickchartButtonEl =\n",
              "        document.querySelector('#' + key + ' button');\n",
              "      quickchartButtonEl.disabled = true;  // To prevent multiple clicks.\n",
              "      quickchartButtonEl.classList.add('colab-df-spinner');\n",
              "      try {\n",
              "        const charts = await google.colab.kernel.invokeFunction(\n",
              "            'suggestCharts', [key], {});\n",
              "      } catch (error) {\n",
              "        console.error('Error during call to suggestCharts:', error);\n",
              "      }\n",
              "      quickchartButtonEl.classList.remove('colab-df-spinner');\n",
              "      quickchartButtonEl.classList.add('colab-df-quickchart-complete');\n",
              "    }\n",
              "    (() => {\n",
              "      let quickchartButtonEl =\n",
              "        document.querySelector('#df-13200d21-8895-4a68-bb6b-797f405f2be6 button');\n",
              "      quickchartButtonEl.style.display =\n",
              "        google.colab.kernel.accessAllowed ? 'block' : 'none';\n",
              "    })();\n",
              "  </script>\n",
              "</div>\n",
              "\n",
              "    </div>\n",
              "  </div>\n"
            ],
            "application/vnd.google.colaboratory.intrinsic+json": {
              "type": "dataframe",
              "summary": "{\n  \"name\": \"print(f\\\"Shape of data: {data\",\n  \"rows\": 5,\n  \"fields\": [\n    {\n      \"column\": \"pattern\",\n      \"properties\": {\n        \"dtype\": \"string\",\n        \"num_unique_values\": 5,\n        \"samples\": [\n          \"hello\",\n          \"whats\",\n          \"hey\"\n        ],\n        \"semantic_type\": \"\",\n        \"description\": \"\"\n      }\n    },\n    {\n      \"column\": \"tag\",\n      \"properties\": {\n        \"dtype\": \"category\",\n        \"num_unique_values\": 1,\n        \"samples\": [\n          \"greeting\"\n        ],\n        \"semantic_type\": \"\",\n        \"description\": \"\"\n      }\n    }\n  ]\n}"
            }
          },
          "metadata": {}
        },
        {
          "output_type": "stream",
          "name": "stdout",
          "text": [
            "Shape of data: (835, 2)\n"
          ]
        }
      ],
      "source": [
        "# Initialize lemmatizer and stopwords\n",
        "lemmatizer = WordNetLemmatizer()\n",
        "stop_words = set(stopwords.words('english'))\n",
        "import nltk\n",
        "nltk.download('punkt_tab')\n",
        "def preprocess_text(text):\n",
        "    \"\"\"\n",
        "    Preprocess text by:\n",
        "    1. Converting to lowercase\n",
        "    2. Removing punctuation\n",
        "    3. Tokenizing\n",
        "    4. Removing stopwords\n",
        "    5. Lemmatizing\n",
        "    \"\"\"\n",
        "    text = text.lower()\n",
        "    text = re.sub(r'[^\\w\\s]', '', text)  # Remove punctuation\n",
        "    tokens = nltk.word_tokenize(text)\n",
        "    tokens = [token for token in tokens if token not in stop_words]  # Remove stopwords\n",
        "    tokens = [lemmatizer.lemmatize(token) for token in tokens]  # Lemmatize\n",
        "    return ' '.join(tokens)\n",
        "\n",
        "# Create lists for patterns and tags\n",
        "patterns = []\n",
        "tags = []\n",
        "for intent in intents:\n",
        "    for pattern in intent['patterns']:\n",
        "        # Preprocess each pattern\n",
        "        processed_pattern = preprocess_text(pattern)\n",
        "        patterns.append(processed_pattern)\n",
        "        tags.append(intent['tag'])\n",
        "\n",
        "# Convert to DataFrame for easier handling\n",
        "data = pd.DataFrame({'pattern': patterns, 'tag': tags})\n",
        "display(data.head())\n",
        "print(f\"Shape of data: {data.shape}\")"
      ]
    },
    {
      "cell_type": "markdown",
      "metadata": {
        "id": "K664WJMZ8b3d"
      },
      "source": [
        "## 5. Analyze Data Distribution"
      ]
    },
    {
      "cell_type": "code",
      "execution_count": 32,
      "metadata": {
        "colab": {
          "base_uri": "https://localhost:8080/",
          "height": 492
        },
        "id": "X9b9rGkC8b3e",
        "outputId": "8c543fc1-ce0b-4333-9a62-503ee52518f1"
      },
      "outputs": [
        {
          "output_type": "display_data",
          "data": {
            "text/plain": [
              "<Figure size 1200x600 with 1 Axes>"
            ],
            "image/png": "[encoded data removed]"
          },
          "metadata": {}
        }
      ],
      "source": [
        "# Visualize the distribution of tags\n",
        "plt.figure(figsize=(12, 6))\n",
        "tag_counts = data['tag'].value_counts()\n",
        "sns.barplot(x=tag_counts.index[:15], y=tag_counts.values[:15])  # Top 15 tags\n",
        "plt.title('Distribution of Top 15 Intent Tags')\n",
        "plt.xlabel('Tag')\n",
        "plt.ylabel('Count')\n",
        "plt.xticks(rotation=45)\n",
        "plt.tight_layout()\n",
        "plt.show()"
      ]
    },
    {
      "cell_type": "markdown",
      "metadata": {
        "id": "Xv_zRUjd8b3e"
      },
      "source": [
        "## 6. Create Feature Extraction Pipeline and Train the Model"
      ]
    },
    {
      "cell_type": "code",
      "execution_count": 33,
      "metadata": {
        "colab": {
          "base_uri": "https://localhost:8080/"
        },
        "id": "YZNzEkcu8b3f",
        "outputId": "d31330d5-f42d-4141-fab6-41a70239c4bc"
      },
      "outputs": [
        {
          "output_type": "stream",
          "name": "stdout",
          "text": [
            "Accuracy: 0.2275\n",
            "\n",
            "Classification Report:\n",
            "                                precision    recall  f1-score   support\n",
            "\n",
            "                         about       0.00      0.00      0.00         0\n",
            "                alien_invasion       0.00      0.00      0.00         2\n",
            "               alien_languages       0.00      0.00      0.00         0\n",
            "                arcane_alchemy       0.00      0.00      0.00         2\n",
            "                           art       0.00      0.00      0.00         1\n",
            "                art_and_crafts       0.00      0.00      0.00         2\n",
            "  artificial_superintelligence       0.00      0.00      0.00         1\n",
            "        biomedical_engineering       0.50      1.00      0.67         1\n",
            "                         books       0.67      1.00      0.80         2\n",
            "      brain_computer_interface       1.00      1.00      1.00         1\n",
            "                budgeting_tips       0.00      0.00      0.00         1\n",
            "               car_maintenance       0.00      0.00      0.00         1\n",
            "                        career       1.00      1.00      1.00         1\n",
            "             charity_donations       0.00      0.00      0.00         1\n",
            "                 cloud_castles       1.00      1.00      1.00         1\n",
            "                        coding       0.00      0.00      0.00         3\n",
            "              coding_languages       0.00      0.00      0.00         1\n",
            "                    compliment       0.00      0.00      0.00         1\n",
            "                    composting       1.00      1.00      1.00         1\n",
            "                       cooking       1.00      0.50      0.67         2\n",
            " cooking_for_special_occasions       0.00      0.00      0.00         1\n",
            "              creative_writing       0.00      0.00      0.00         1\n",
            "                    creativity       0.00      0.00      0.00         0\n",
            "                  credit_score       1.00      1.00      1.00         2\n",
            "                       cuisine       0.00      0.00      0.00         0\n",
            "                 cybersecurity       1.00      1.00      1.00         1\n",
            "              daily_meditation       0.00      0.00      0.00         1\n",
            "                       dancing       0.00      0.00      0.00         2\n",
            "                  data_privacy       0.00      0.00      0.00         1\n",
            "          digital_organization       0.00      0.00      0.00         1\n",
            "           dimensional_doorway       0.00      0.00      0.00         0\n",
            "                 dragon_riding       0.00      0.00      0.00         0\n",
            "                   dream_world       0.00      0.00      0.00         3\n",
            "                     education       0.00      0.00      0.00         1\n",
            "     effective_decision_making       0.00      0.00      0.00         1\n",
            "         emerging_technologies       0.00      0.00      0.00         2\n",
            "               enchanted_books       0.00      0.00      0.00         1\n",
            "              enchanted_breeze       0.00      0.00      0.00         2\n",
            "         enchanted_butterflies       1.00      1.00      1.00         1\n",
            "             enchanted_compass       1.00      1.00      1.00         1\n",
            "               enchanted_dance       0.00      0.00      0.00         1\n",
            "                 enchanted_fog       0.00      0.00      0.00         1\n",
            "             enchanted_forests       0.00      0.00      0.00         1\n",
            "              enchanted_fruits       0.00      0.00      0.00         0\n",
            "              enchanted_garden       0.00      0.00      0.00         2\n",
            "                enchanted_gems       0.00      0.00      0.00         1\n",
            "               enchanted_mazes       0.00      0.00      0.00         1\n",
            "         enchanted_mirror_maze       0.00      0.00      0.00         0\n",
            "           enchanted_paintings       0.00      0.00      0.00         1\n",
            "             enchanted_potions       0.00      0.00      0.00         1\n",
            "                enchanted_rain       0.00      0.00      0.00         1\n",
            "             enchanted_riddles       0.00      0.00      0.00         2\n",
            "          enchanted_sculptures       0.00      0.00      0.00         2\n",
            "                enchanted_snow       0.00      0.00      0.00         1\n",
            "            enchanted_stardust       0.00      0.00      0.00         2\n",
            "              enchanted_teapot       1.00      0.50      0.67         2\n",
            "                enchanted_well       0.00      0.00      0.00         0\n",
            "         energy_boosting_foods       0.00      0.00      0.00         1\n",
            "                      exercise       0.00      0.00      0.00         1\n",
            "                   fairy_rings       1.00      1.00      1.00         1\n",
            "            fantasy_adventures       0.00      0.00      0.00         1\n",
            "            fantasy_dreamscape       0.00      0.00      0.00         2\n",
            "                 fantasy_lands       0.00      0.00      0.00         1\n",
            "                fashion_trends       1.00      1.00      1.00         1\n",
            "                  finance_tips       0.00      0.00      0.00         0\n",
            "         fire-breathing_dragon       0.00      0.00      0.00         1\n",
            "      flying_carpet_adventures       1.00      1.00      1.00         1\n",
            "                          food       0.00      0.00      0.00         0\n",
            "       fortune_cookie_messages       0.00      0.00      0.00         0\n",
            "                        future       0.50      1.00      0.67         1\n",
            "         futuristic_technology       0.00      0.00      0.00         1\n",
            "                  gamification       0.00      0.00      0.00         0\n",
            "         generosity_and_giving       0.00      0.00      0.00         2\n",
            "                global_warming       0.00      0.00      0.00         1\n",
            "                       goodbye       0.00      0.00      0.00         2\n",
            "                      greeting       0.00      0.00      0.00         1\n",
            "                     happiness       0.00      0.00      0.00         1\n",
            "                        health       0.00      0.00      0.00         0\n",
            "healthy_relationship_with_food       0.00      0.00      0.00         1\n",
            "                 healthy_sleep       0.00      0.00      0.00         0\n",
            "                        hiking       1.00      1.00      1.00         1\n",
            "                       history       0.00      0.00      0.00         0\n",
            "                  home_fitness       0.00      0.00      0.00         2\n",
            "                 home_security       0.00      0.00      0.00         1\n",
            "          interpersonal_skills       1.00      1.00      1.00         1\n",
            "            job_interview_tips       1.00      1.00      1.00         1\n",
            "             language_learning       0.00      0.00      0.00         1\n",
            "                     languages       0.00      0.00      0.00         0\n",
            "              machine_learning       0.00      0.00      0.00         0\n",
            "                  magic_school       0.00      0.00      0.00         0\n",
            "              magical_mistakes       0.00      0.00      0.00         1\n",
            "               meaning_of_life       0.00      0.00      0.00         0\n",
            "                    meditation       0.00      0.00      0.00         0\n",
            "            memory_improvement       0.00      0.00      0.00         1\n",
            "            mermaid_encounters       0.00      0.00      0.00         1\n",
            "          mind_bending_riddles       0.00      0.00      0.00         1\n",
            "                  mind_control       1.00      1.00      1.00         1\n",
            "           mindful_consumption       0.00      0.00      0.00         1\n",
            "                mindful_eating       0.50      1.00      0.67         1\n",
            "                   mindfulness       1.00      1.00      1.00         2\n",
            "                    motivation       0.00      0.00      0.00         1\n",
            "                        movies       1.00      1.00      1.00         1\n",
            "            mystical_creatures       0.00      0.00      0.00         1\n",
            "                          name       1.00      0.50      0.67         2\n",
            "                nanotechnology       0.00      0.00      0.00         0\n",
            "                  ninja_skills       0.00      0.00      0.00         1\n",
            "                nutrition_tips       0.00      0.00      0.00         2\n",
            "               online_business       0.00      0.00      0.00         1\n",
            "               online_security       0.00      0.00      0.00         0\n",
            "             personal_finances       0.00      0.00      0.00         1\n",
            "                  pet_adoption       0.00      0.00      0.00         0\n",
            "                          pets       0.00      0.00      0.00         1\n",
            "                  philanthropy       0.00      0.00      0.00         1\n",
            "              plant_whispering       0.00      0.00      0.00         0\n",
            "       plastic_waste_reduction       0.00      0.00      0.00         0\n",
            "         positive_affirmations       0.00      0.00      0.00         1\n",
            "             positivity_quotes       0.00      0.00      0.00         0\n",
            "               procrastination       0.00      0.00      0.00         1\n",
            "                  productivity       0.00      0.00      0.00         2\n",
            "               public_speaking       0.00      0.00      0.00         1\n",
            "          quantum_entanglement       1.00      1.00      1.00         1\n",
            "              rainbow_treasure       0.00      0.00      0.00         2\n",
            "   reducing_energy_consumption       0.00      0.00      0.00         0\n",
            "                  relationship       0.00      0.00      0.00         0\n",
            "           relationship_advice       0.00      0.00      0.00         1\n",
            "     responsible_pet_ownership       0.00      0.00      0.00         1\n",
            "       reusable_transportation       0.00      0.00      0.00         1\n",
            "                       science       1.00      1.00      1.00         1\n",
            "                     self_care       0.00      0.00      0.00         0\n",
            "        self_defense_for_women       1.00      0.50      0.67         2\n",
            "              self_improvement       0.00      0.00      0.00         0\n",
            "               self_reflection       0.00      0.00      0.00         1\n",
            "      shape-shifting_abilities       0.00      0.00      0.00         0\n",
            "                  social_media       0.00      0.00      0.00         0\n",
            "            social_media_detox       0.00      0.00      0.00         1\n",
            "             space_dance_party       0.00      0.00      0.00         1\n",
            "                  space_travel       0.00      0.00      0.00         1\n",
            "          spellbinding_cuisine       0.00      0.00      0.00         1\n",
            "          spellbook_collection       0.00      0.00      0.00         0\n",
            "           starship_adventures       0.00      0.00      0.00         1\n",
            "                    study_tips       0.00      0.00      0.00         0\n",
            "                sustainability       0.00      0.00      0.00         1\n",
            "               talking_animals       0.50      1.00      0.67         1\n",
            "                    technology       0.25      1.00      0.40         1\n",
            "          technology_addiction       0.00      0.00      0.00         1\n",
            "               technology_help       0.00      0.00      0.00         1\n",
            "                        thanks       0.50      1.00      0.67         1\n",
            "                          time       0.50      1.00      0.67         1\n",
            "                  time_bending       0.00      0.00      0.00         1\n",
            "                 time_crystals       0.00      0.00      0.00         3\n",
            "               time_management       0.00      0.00      0.00         0\n",
            "                   time_travel       0.00      0.00      0.00         1\n",
            "        time_travelers_journal       0.00      0.00      0.00         2\n",
            "               time_warp_dance       0.00      0.00      0.00         0\n",
            "                    time_warps       0.00      0.00      0.00         1\n",
            "             timeless_ballroom       0.00      0.00      0.00         1\n",
            "            timeless_treasures       0.00      0.00      0.00         1\n",
            "                        travel       0.00      0.00      0.00         2\n",
            "           travel_destinations       0.50      0.50      0.50         2\n",
            "                   travel_tips       0.00      0.00      0.00         0\n",
            "              treasure_hunting       0.00      0.00      0.00         1\n",
            "                unicorn_taming       1.00      0.50      0.67         2\n",
            "             virtual_assistant       1.00      0.50      0.67         2\n",
            "               virtual_reality       0.00      0.00      0.00         0\n",
            "       waste_reduction_at_work       0.00      0.00      0.00         2\n",
            "                       weather       0.00      0.00      0.00         1\n",
            "         wizard_apprenticeship       0.50      1.00      0.67         1\n",
            "               wizard_training       0.00      0.00      0.00         1\n",
            "             wizarding_cuisine       0.00      0.00      0.00         0\n",
            "             work_life_balance       0.00      0.00      0.00         1\n",
            "                       workout       0.00      0.00      0.00         0\n",
            "           youth_mental_health       0.00      0.00      0.00         1\n",
            "\n",
            "                      accuracy                           0.23       167\n",
            "                     macro avg       0.17      0.18      0.17       167\n",
            "                  weighted avg       0.23      0.23      0.22       167\n",
            "\n"
          ]
        }
      ],
      "source": [
        "# Split data into train and test sets\n",
        "X_train, X_test, y_train, y_test = train_test_split(data['pattern'], data['tag'], test_size=0.2, random_state=42)\n",
        "\n",
        "# Create TF-IDF vectorizer\n",
        "vectorizer = TfidfVectorizer(max_features=5000)\n",
        "X_train_tfidf = vectorizer.fit_transform(X_train)\n",
        "X_test_tfidf = vectorizer.transform(X_test)\n",
        "\n",
        "# Train a Random Forest classifier\n",
        "# Using Random Forest for better generalization\n",
        "clf = RandomForestClassifier(n_estimators=100, random_state=42)\n",
        "clf.fit(X_train_tfidf, y_train)\n",
        "\n",
        "# Evaluate the model\n",
        "y_pred = clf.predict(X_test_tfidf)\n",
        "print(f\"Accuracy: {accuracy_score(y_test, y_pred):.4f}\")\n",
        "print(\"\\nClassification Report:\")\n",
        "print(classification_report(y_test, y_pred))"
      ]
    },
    {
      "cell_type": "markdown",
      "metadata": {
        "id": "Xn6x_r7T8b3f"
      },
      "source": [
        "## 7. Create the Chatbot Function"
      ]
    },
    {
      "cell_type": "code",
      "execution_count": 34,
      "metadata": {
        "id": "fuEhgT198b3g"
      },
      "outputs": [],
      "source": [
        "def get_response(user_input):\n",
        "    \"\"\"\n",
        "    Process user input and return an appropriate response based on the\n",
        "    predicted intent.\n",
        "    \"\"\"\n",
        "    # Preprocess the input\n",
        "    processed_input = preprocess_text(user_input)\n",
        "\n",
        "    # If the input is empty after preprocessing\n",
        "    if not processed_input:\n",
        "        return \"I didn't catch that. Could you please rephrase?\"\n",
        "\n",
        "    # Transform the input using the vectorizer\n",
        "    input_tfidf = vectorizer.transform([processed_input])\n",
        "\n",
        "    # Get prediction probabilities\n",
        "    probabilities = clf.predict_proba(input_tfidf)[0]\n",
        "    max_prob = max(probabilities)\n",
        "\n",
        "    # If confidence is too low, return a default response\n",
        "    if max_prob < 0.3:  # Confidence threshold\n",
        "        return \"I'm not sure I understand. Could you elaborate?\"\n",
        "\n",
        "    # Predict the tag\n",
        "    predicted_tag = clf.predict(input_tfidf)[0]\n",
        "\n",
        "    # Find responses for the predicted tag\n",
        "    for intent in intents:\n",
        "        if intent['tag'] == predicted_tag:\n",
        "            return random.choice(intent['responses'])\n",
        "\n",
        "    # Fallback response if no matching intent is found\n",
        "    return \"I'm still learning. Could you try asking differently?\""
      ]
    },
    {
      "cell_type": "markdown",
      "metadata": {
        "id": "wZHhcbn68b3g"
      },
      "source": [
        "## 8. Interactive Chat Interface"
      ]
    },
    {
      "cell_type": "code",
      "execution_count": 35,
      "metadata": {
        "id": "tAq2GTJz8b3h"
      },
      "outputs": [],
      "source": [
        "def chat():\n",
        "    print(\"Chatbot: Hi there! I'm your AI assistant. Type 'quit' to exit.\")\n",
        "    while True:\n",
        "        user_input = input(\"You: \")\n",
        "        if user_input.lower() in ['quit', 'exit', 'bye']:\n",
        "            print(\"Chatbot: Goodbye! Have a great day!\")\n",
        "            break\n",
        "        response = get_response(user_input)\n",
        "        print(f\"Chatbot: {response}\")"
      ]
    },
    {
      "cell_type": "code",
      "execution_count": 36,
      "metadata": {
        "colab": {
          "base_uri": "https://localhost:8080/"
        },
        "id": "7CL0MlpC8b3h",
        "outputId": "b1e188ff-f567-4575-e7c2-8b165a55e4d4"
      },
      "outputs": [
        {
          "output_type": "stream",
          "name": "stdout",
          "text": [
            "Chatbot: Hi there! I'm your AI assistant. Type 'quit' to exit.\n",
            "You: Hello\n",
            "Chatbot: Hey\n",
            "You: I am Vaibhav\n",
            "Chatbot: My purpose is to assist you\n",
            "You: what is ai\n",
            "Chatbot: Artificial intelligence is the simulation of human intelligence in machines, enabling them to learn and perform tasks.\n",
            "You: what is ml\n",
            "Chatbot: Machine learning is a subset of AI that enables systems to learn from data and improve performance over time.\n",
            "You: great\n",
            "Chatbot: I can answer questions and provide assistance\n",
            "You: what is the time\n",
            "Chatbot: You can check the time on your device or use a clock.\n",
            "You: what is nlp\n",
            "Chatbot: I can answer questions and provide assistance\n",
            "You: quit\n",
            "Chatbot: Goodbye! Have a great day!\n"
          ]
        }
      ],
      "source": [
        "# Start the chat\n",
        "chat()"
      ]
    },
    {
      "cell_type": "markdown",
      "metadata": {
        "id": "VYoV82LH8b3i"
      },
      "source": [
        "## 9. Test with Specific Examples"
      ]
    },
    {
      "cell_type": "code",
      "execution_count": 37,
      "metadata": {
        "colab": {
          "base_uri": "https://localhost:8080/"
        },
        "id": "fLSTEZ4n8b3i",
        "outputId": "d0531be2-a375-4c3c-f3c9-1a7c74a490fb"
      },
      "outputs": [
        {
          "output_type": "stream",
          "name": "stdout",
          "text": [
            "Testing with specific examples:\n",
            "\n",
            "User: Hello there!\n",
            "Chatbot: I'm fine, thank you\n",
            "\n",
            "User: What's your name?\n",
            "Chatbot: My name is Chatbot.\n",
            "\n",
            "User: Tell me a joke\n",
            "Chatbot: Why don't skeletons fight each other? They don't have the guts!\n",
            "\n",
            "User: How can I make a budget?\n",
            "Chatbot: To make a budget, start by tracking your income and expenses. Then, allocate your income towards essential expenses like rent, food, and bills. Next, allocate some of your income towards savings and debt repayment. Finally, allocate the remainder of your income towards discretionary expenses like entertainment and hobbies.\n",
            "\n",
            "User: What's emotional intelligence?\n",
            "Chatbot: Developing emotional intelligence involves self-awareness, empathy, effective communication, and emotional regulation.\n",
            "\n",
            "User: Tell me about time travel\n",
            "Chatbot: I'm not sure I understand. Could you elaborate?\n",
            "\n",
            "User: I need some motivation\n",
            "Chatbot: Obstacles are stepping stones to success. Embrace challenges as opportunities for growth and learning.\n",
            "\n",
            "User: Thank you for your help\n",
            "Chatbot: Sure, what do you need help with?\n",
            "\n",
            "User: Goodbye\n",
            "Chatbot: I am a chatbot\n",
            "\n"
          ]
        }
      ],
      "source": [
        "test_queries = [\n",
        "    \"Hello there!\",\n",
        "    \"What's your name?\",\n",
        "    \"Tell me a joke\",\n",
        "    \"How can I make a budget?\",\n",
        "    \"What's emotional intelligence?\",\n",
        "    \"Tell me about time travel\",\n",
        "    \"I need some motivation\",\n",
        "    \"Thank you for your help\",\n",
        "    \"Goodbye\"\n",
        "]\n",
        "\n",
        "print(\"Testing with specific examples:\\n\")\n",
        "for query in test_queries:\n",
        "    response = get_response(query)\n",
        "    print(f\"User: {query}\")\n",
        "    print(f\"Chatbot: {response}\\n\")"
      ]
    },
    {
      "cell_type": "markdown",
      "metadata": {
        "id": "H5HqGSyV8b3j"
      },
      "source": [
        "## 10. Advanced Feature: Sentiment Analysis"
      ]
    },
    {
      "cell_type": "code",
      "execution_count": 38,
      "metadata": {
        "colab": {
          "base_uri": "https://localhost:8080/"
        },
        "id": "7CmGId968b3j",
        "outputId": "42b177ec-2be2-4274-d263-b866c487e233"
      },
      "outputs": [
        {
          "output_type": "stream",
          "name": "stderr",
          "text": [
            "[nltk_data] Downloading package vader_lexicon to /root/nltk_data...\n",
            "[nltk_data]   Package vader_lexicon is already up-to-date!\n"
          ]
        }
      ],
      "source": [
        "from nltk.sentiment import SentimentIntensityAnalyzer\n",
        "\n",
        "# Download VADER lexicon for sentiment analysis\n",
        "nltk.download('vader_lexicon')\n",
        "\n",
        "# Initialize the sentiment analyzer\n",
        "sia = SentimentIntensityAnalyzer()\n",
        "\n",
        "def analyze_sentiment(text):\n",
        "    \"\"\"\n",
        "    Analyze the sentiment of text and return a label (positive, negative, neutral).\n",
        "    \"\"\"\n",
        "    sentiment_scores = sia.polarity_scores(text)\n",
        "    compound_score = sentiment_scores['compound']\n",
        "\n",
        "    if compound_score >= 0.05:\n",
        "        return \"positive\"\n",
        "    elif compound_score <= -0.05:\n",
        "        return \"negative\"\n",
        "    else:\n",
        "        return \"neutral\"\n",
        "\n",
        "def enhanced_response(user_input):\n",
        "    \"\"\"\n",
        "    Get response and enhance it with sentiment awareness.\n",
        "    \"\"\"\n",
        "    sentiment = analyze_sentiment(user_input)\n",
        "    response = get_response(user_input)\n",
        "\n",
        "    # Add sentiment-based modifications\n",
        "    if sentiment == \"negative\":\n",
        "        empathy_phrases = [\n",
        "            \"I understand you might be feeling frustrated. \",\n",
        "            \"I'm sorry to hear that. \",\n",
        "            \"That sounds challenging. \"\n",
        "        ]\n",
        "        response = random.choice(empathy_phrases) + response\n",
        "\n",
        "    return response, sentiment"
      ]
    },
    {
      "cell_type": "code",
      "execution_count": 39,
      "metadata": {
        "colab": {
          "base_uri": "https://localhost:8080/"
        },
        "id": "axjcQncA8b3k",
        "outputId": "0837020b-c862-44f6-8908-2fc3b8f16c2b"
      },
      "outputs": [
        {
          "output_type": "stream",
          "name": "stdout",
          "text": [
            "Testing with sentiment analysis:\n",
            "\n",
            "User: I'm really happy today!\n",
            "Sentiment: positive\n",
            "Chatbot: My purpose is to assist you\n",
            "\n",
            "User: This is frustrating and annoying.\n",
            "Sentiment: negative\n",
            "Chatbot: I'm sorry to hear that. I can answer questions and provide assistance\n",
            "\n",
            "User: I don't know what to do anymore.\n",
            "Sentiment: neutral\n",
            "Chatbot: I am a chatbot\n",
            "\n",
            "User: The weather is quite nice.\n",
            "Sentiment: positive\n",
            "Chatbot: I can answer questions and provide assistance\n",
            "\n"
          ]
        }
      ],
      "source": [
        "# Test sentiment analysis with some examples\n",
        "test_with_sentiment = [\n",
        "    \"I'm really happy today!\",\n",
        "    \"This is frustrating and annoying.\",\n",
        "    \"I don't know what to do anymore.\",\n",
        "    \"The weather is quite nice.\"\n",
        "]\n",
        "\n",
        "print(\"Testing with sentiment analysis:\\n\")\n",
        "for query in test_with_sentiment:\n",
        "    response, sentiment = enhanced_response(query)\n",
        "    print(f\"User: {query}\")\n",
        "    print(f\"Sentiment: {sentiment}\")\n",
        "    print(f\"Chatbot: {response}\\n\")"
      ]
    },
    {
      "cell_type": "markdown",
      "metadata": {
        "id": "M5JR241o8b3l"
      },
      "source": [
        "## 11. Enhanced Interactive Chat with Sentiment Analysis"
      ]
    },
    {
      "cell_type": "code",
      "execution_count": 40,
      "metadata": {
        "id": "UAfFxWTs8b3l"
      },
      "outputs": [],
      "source": [
        "def enhanced_chat():\n",
        "    print(\"Chatbot: Hi there! I'm your AI assistant. Type 'quit' to exit.\")\n",
        "    conversation_history = []\n",
        "\n",
        "    while True:\n",
        "        user_input = input(\"You: \")\n",
        "        if user_input.lower() in ['quit', 'exit', 'bye']:\n",
        "            print(\"Chatbot: Goodbye! Have a great day!\")\n",
        "            break\n",
        "\n",
        "        # Store user input\n",
        "        conversation_history.append({\"role\": \"user\", \"message\": user_input})\n",
        "\n",
        "        # Get enhanced response with sentiment\n",
        "        response, sentiment = enhanced_response(user_input)\n",
        "        print(f\"Chatbot: {response}\")\n",
        "\n",
        "        # Store bot response\n",
        "        conversation_history.append({\"role\": \"bot\", \"message\": response, \"sentiment\": sentiment})\n",
        "\n",
        "    # Return conversation history for potential further analysis\n",
        "    return conversation_history"
      ]
    },
    {
      "cell_type": "code",
      "execution_count": 41,
      "metadata": {
        "colab": {
          "base_uri": "https://localhost:8080/"
        },
        "id": "31t4SynY8b3m",
        "outputId": "dc32faa4-2a33-444a-db1a-9032d0d89b8c"
      },
      "outputs": [
        {
          "output_type": "stream",
          "name": "stdout",
          "text": [
            "Chatbot: Hi there! I'm your AI assistant. Type 'quit' to exit.\n",
            "You: Hey\n",
            "Chatbot: I can answer questions and provide assistance\n",
            "You: name\n",
            "Chatbot: You can call me Chatbot.\n",
            "You: time\n",
            "Chatbot: I'm sorry, but I don't have access to real-time information like the current time.\n",
            "You: how are you\n",
            "Chatbot: I didn't catch that. Could you please rephrase?\n",
            "You: what is ai?\n",
            "Chatbot: AI has diverse applications, including voice assistants, self-driving cars, recommendation systems, and medical diagnostics.\n",
            "You: ok good\n",
            "Chatbot: My purpose is to assist you\n",
            "You: quit\n",
            "Chatbot: Goodbye! Have a great day!\n"
          ]
        }
      ],
      "source": [
        "# Start the enhanced chat\n",
        "conversation = enhanced_chat()"
      ]
    },
    {
      "cell_type": "markdown",
      "metadata": {
        "id": "NrkpIFpP8b3m"
      },
      "source": [
        "## 12. Save the Trained Model"
      ]
    },
    {
      "cell_type": "code",
      "execution_count": 42,
      "metadata": {
        "colab": {
          "base_uri": "https://localhost:8080/"
        },
        "id": "b4C1j52J8b3m",
        "outputId": "2b95d2de-0e60-48df-ea29-13ef75447d61"
      },
      "outputs": [
        {
          "output_type": "stream",
          "name": "stdout",
          "text": [
            "Model saved successfully!\n"
          ]
        }
      ],
      "source": [
        "import pickle\n",
        "\n",
        "# Save the vectorizer and classifier\n",
        "with open('chatbot_vectorizer.pkl', 'wb') as f:\n",
        "    pickle.dump(vectorizer, f)\n",
        "\n",
        "with open('chatbot_classifier.pkl', 'wb') as f:\n",
        "    pickle.dump(clf, f)\n",
        "\n",
        "print(\"Model saved successfully!\")"
      ]
    },
    {
      "cell_type": "markdown",
      "metadata": {
        "id": "8l5L1qOH8b3m"
      },
      "source": [
        "## 13. Load the Model (for future use)"
      ]
    },
    {
      "cell_type": "code",
      "execution_count": 43,
      "metadata": {
        "id": "MTCvxCoi8b3n"
      },
      "outputs": [],
      "source": [
        "# Example code to load the saved model\n",
        "def load_model():\n",
        "    with open('chatbot_vectorizer.pkl', 'rb') as f:\n",
        "        loaded_vectorizer = pickle.load(f)\n",
        "\n",
        "    with open('chatbot_classifier.pkl', 'rb') as f:\n",
        "        loaded_classifier = pickle.load(f)\n",
        "\n",
        "    return loaded_vectorizer, loaded_classifier\n",
        "\n",
        "# Uncomment to load the model\n",
        "# loaded_vectorizer, loaded_classifier = load_model()"
      ]
    },
    {
      "cell_type": "markdown",
      "metadata": {
        "id": "CklE8M-u8b3n"
      },
      "source": [
        "## 14. Conclusion\n",
        "\n",
        "This notebook implements an enhanced chatbot that:\n",
        "- Uses NLP techniques for text preprocessing\n",
        "- Employs TF-IDF vectorization for feature extraction\n",
        "- Utilizes a Random Forest classifier for intent prediction\n",
        "- Incorporates sentiment analysis for more empathetic responses\n",
        "- Provides a simple interactive interface for chatting\n",
        "\n",
        "The chatbot can be further improved by:\n",
        "- Adding more intents and patterns\n",
        "- Using more advanced models like neural networks\n",
        "- Incorporating context tracking for multi-turn conversations\n",
        "- Adding spelling correction and entity recognition\n",
        "- Implementing fallback strategies for low-confidence predictions"
      ]
    }
  ],
  "metadata": {
    "kernelspec": {
      "display_name": "Python 3",
      "language": "python",
      "name": "python3"
    },
    "language_info": {
      "codemirror_mode": {
        "name": "ipython",
        "version": 3
      },
      "file_extension": ".py",
      "mimetype": "text/x-python",
      "name": "python",
      "nbconvert_exporter": "python",
      "pygments_lexer": "ipython3",
      "version": "3.8.10"
    },
    "colab": {
      "provenance": []
    }
  },
  "nbformat": 4,
  "nbformat_minor": 0
}